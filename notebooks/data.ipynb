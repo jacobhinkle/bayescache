{
 "cells": [
  {
   "cell_type": "code",
   "execution_count": 37,
   "metadata": {},
   "outputs": [],
   "source": [
    "from bayescache.data import Anon\n",
    "from bayescache.api.data import train_valid_split\n",
    "from bayescache.api.data.source import TrainingData\n",
    "\n",
    "from torch.utils.data import DataLoader"
   ]
  },
  {
   "cell_type": "code",
   "execution_count": 38,
   "metadata": {},
   "outputs": [],
   "source": [
    "train = Anon('/Users/yngtodd/data', partition='train', download=True)"
   ]
  },
  {
   "cell_type": "code",
   "execution_count": 39,
   "metadata": {},
   "outputs": [
    {
     "data": {
      "text/plain": [
       "Dataset Anon\n",
       "    Number of datapoints: 2500\n",
       "    Split: train\n",
       "    Root Location: /Users/yngtodd/data"
      ]
     },
     "execution_count": 39,
     "metadata": {},
     "output_type": "execute_result"
    }
   ],
   "source": [
    "train"
   ]
  },
  {
   "cell_type": "code",
   "execution_count": 33,
   "metadata": {},
   "outputs": [],
   "source": [
    "train, valid = train_valid_split(train, valpercent=.25)"
   ]
  },
  {
   "cell_type": "code",
   "execution_count": 34,
   "metadata": {},
   "outputs": [
    {
     "data": {
      "text/plain": [
       "1875"
      ]
     },
     "execution_count": 34,
     "metadata": {},
     "output_type": "execute_result"
    }
   ],
   "source": [
    "len(train)"
   ]
  },
  {
   "cell_type": "code",
   "execution_count": 35,
   "metadata": {},
   "outputs": [
    {
     "data": {
      "text/plain": [
       "625"
      ]
     },
     "execution_count": 35,
     "metadata": {},
     "output_type": "execute_result"
    }
   ],
   "source": [
    "len(valid)"
   ]
  },
  {
   "cell_type": "code",
   "execution_count": 40,
   "metadata": {},
   "outputs": [],
   "source": [
    "traindata = TrainingData(train, .25, 2, 10)"
   ]
  },
  {
   "cell_type": "code",
   "execution_count": 41,
   "metadata": {},
   "outputs": [],
   "source": [
    "val_loader = traindata.val_loader()"
   ]
  },
  {
   "cell_type": "code",
   "execution_count": 16,
   "metadata": {},
   "outputs": [
    {
     "name": "stdout",
     "output_type": "stream",
     "text": [
      "idx: 0, label: tensor([2, 1, 2, 2, 2, 1, 2, 2, 2, 0])\n",
      "idx: 1, label: tensor([4, 1, 1, 2, 1, 1, 1, 1, 4, 1])\n",
      "idx: 2, label: tensor([1, 1, 1, 4, 2, 2, 4, 2, 2, 4])\n",
      "idx: 3, label: tensor([0, 4, 2, 4, 1, 0, 2, 4, 4, 1])\n",
      "idx: 4, label: tensor([1, 2, 0, 1, 2, 4, 4, 0, 2, 1])\n",
      "idx: 5, label: tensor([4, 2, 2, 4, 1, 1, 2, 0, 1, 1])\n",
      "idx: 6, label: tensor([4, 1, 1, 2, 4, 2, 1, 0, 1, 1])\n",
      "idx: 7, label: tensor([1, 0, 2, 1, 1, 2, 2, 1, 2, 1])\n",
      "idx: 8, label: tensor([2, 1, 1, 1, 2, 3, 2, 2, 1, 2])\n",
      "idx: 9, label: tensor([4, 1, 4, 1, 4, 4, 0, 1, 0, 1])\n",
      "idx: 10, label: tensor([1, 2, 1, 2, 0, 2, 2, 4, 4, 4])\n",
      "idx: 11, label: tensor([1, 4, 3, 0, 4, 2, 1, 1, 2, 2])\n",
      "idx: 12, label: tensor([1, 2, 4, 4, 2, 1, 1, 4, 1, 0])\n",
      "idx: 13, label: tensor([0, 4, 2, 0, 2, 4, 1, 2, 0, 1])\n",
      "idx: 14, label: tensor([1, 0, 1, 1, 4, 1, 4, 1, 0, 4])\n",
      "idx: 15, label: tensor([2, 4, 1, 2, 2, 4, 1, 1, 1, 4])\n",
      "idx: 16, label: tensor([4, 4, 2, 2, 2, 2, 1, 4, 3, 4])\n",
      "idx: 17, label: tensor([1, 1, 1, 1, 2, 0, 1, 1, 1, 2])\n",
      "idx: 18, label: tensor([4, 0, 3, 2, 0, 1, 2, 3, 2, 2])\n",
      "idx: 19, label: tensor([1, 3, 1, 2, 1, 1, 4, 2, 2, 2])\n",
      "idx: 20, label: tensor([1, 4, 0, 1, 2, 1, 0, 1, 1, 1])\n",
      "idx: 21, label: tensor([4, 0, 1, 2, 1, 0, 2, 3, 1, 1])\n",
      "idx: 22, label: tensor([1, 4, 0, 1, 1, 1, 4, 1, 1, 1])\n",
      "idx: 23, label: tensor([4, 4, 1, 4, 4, 1, 4, 2, 1, 1])\n",
      "idx: 24, label: tensor([1, 4, 1, 4, 1, 2, 4, 1, 4, 0])\n",
      "idx: 25, label: tensor([4, 1, 2, 1, 1, 4, 2, 4, 1, 2])\n",
      "idx: 26, label: tensor([1, 4, 2, 1, 1, 2, 1, 4, 0, 2])\n",
      "idx: 27, label: tensor([2, 1, 2, 1, 2, 2, 0, 4, 2, 3])\n",
      "idx: 28, label: tensor([4, 4, 1, 4, 4, 1, 0, 3, 1, 2])\n",
      "idx: 29, label: tensor([4, 1, 1, 1, 1, 4, 1, 1, 2, 1])\n",
      "idx: 30, label: tensor([2, 1, 4, 3, 1, 1, 1, 0, 4, 4])\n",
      "idx: 31, label: tensor([1, 2, 4, 1, 2, 1, 4, 1, 1, 3])\n",
      "idx: 32, label: tensor([1, 1, 1, 3, 0, 2, 0, 0, 2, 1])\n",
      "idx: 33, label: tensor([1, 2, 2, 4, 1, 1, 3, 3, 2, 2])\n",
      "idx: 34, label: tensor([2, 2, 3, 1, 4, 4, 1, 2, 2, 4])\n",
      "idx: 35, label: tensor([2, 4, 4, 0, 1, 3, 2, 0, 1, 0])\n",
      "idx: 36, label: tensor([1, 4, 1, 4, 2, 1, 1, 1, 1, 4])\n",
      "idx: 37, label: tensor([1, 4, 4, 1, 4, 2, 3, 0, 1, 4])\n",
      "idx: 38, label: tensor([1, 1, 2, 0, 1, 0, 2, 1, 1, 1])\n",
      "idx: 39, label: tensor([3, 2, 1, 2, 4, 2, 1, 1, 1, 1])\n",
      "idx: 40, label: tensor([1, 3, 1, 4, 1, 4, 2, 1, 0, 2])\n",
      "idx: 41, label: tensor([1, 2, 4, 4, 1, 4, 1, 2, 4, 0])\n",
      "idx: 42, label: tensor([2, 1, 2, 4, 0, 2, 4, 0, 4, 4])\n",
      "idx: 43, label: tensor([0, 1, 4, 1, 1, 2, 4, 0, 1, 0])\n",
      "idx: 44, label: tensor([1, 1, 4, 1, 2, 1, 1, 1, 1, 0])\n",
      "idx: 45, label: tensor([4, 0, 0, 4, 1, 1, 0, 1, 2, 2])\n",
      "idx: 46, label: tensor([1, 4, 1, 0, 1, 1, 4, 1, 1, 4])\n",
      "idx: 47, label: tensor([2, 4, 2, 3, 4, 4, 2, 4, 2, 1])\n",
      "idx: 48, label: tensor([1, 2, 1, 2, 2, 1, 1, 0, 1, 3])\n",
      "idx: 49, label: tensor([1, 1, 4, 1, 4, 1, 2, 1, 1, 1])\n"
     ]
    }
   ],
   "source": [
    "for idx, (data, label) in enumerate(val_loader):\n",
    "    print(f'idx: {idx}, label: {label}')"
   ]
  },
  {
   "cell_type": "code",
   "execution_count": 42,
   "metadata": {},
   "outputs": [],
   "source": [
    "valid = traindata.val_dataset()"
   ]
  },
  {
   "cell_type": "code",
   "execution_count": 43,
   "metadata": {},
   "outputs": [
    {
     "data": {
      "text/plain": [
       "625"
      ]
     },
     "execution_count": 43,
     "metadata": {},
     "output_type": "execute_result"
    }
   ],
   "source": [
    "len(valid)"
   ]
  },
  {
   "cell_type": "code",
   "execution_count": 44,
   "metadata": {},
   "outputs": [],
   "source": [
    "train = traindata.train_dataset()"
   ]
  },
  {
   "cell_type": "code",
   "execution_count": 45,
   "metadata": {},
   "outputs": [
    {
     "data": {
      "text/plain": [
       "1875"
      ]
     },
     "execution_count": 45,
     "metadata": {},
     "output_type": "execute_result"
    }
   ],
   "source": [
    "len(train)"
   ]
  },
  {
   "cell_type": "code",
   "execution_count": null,
   "metadata": {},
   "outputs": [],
   "source": []
  }
 ],
 "metadata": {
  "kernelspec": {
   "display_name": "Python 3",
   "language": "python",
   "name": "python3"
  },
  "language_info": {
   "codemirror_mode": {
    "name": "ipython",
    "version": 3
   },
   "file_extension": ".py",
   "mimetype": "text/x-python",
   "name": "python",
   "nbconvert_exporter": "python",
   "pygments_lexer": "ipython3",
   "version": "3.7.1"
  }
 },
 "nbformat": 4,
 "nbformat_minor": 2
}
