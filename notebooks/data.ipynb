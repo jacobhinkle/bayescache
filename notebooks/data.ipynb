{
 "cells": [
  {
   "cell_type": "code",
   "execution_count": 1,
   "metadata": {},
   "outputs": [],
   "source": [
    "from bayescache.data import P3B3\n",
    "from bayescache.api.data import train_valid_split\n",
    "from bayescache.api.data.source import TrainingData\n",
    "\n",
    "from torch.utils.data import DataLoader"
   ]
  },
  {
   "cell_type": "code",
   "execution_count": 2,
   "metadata": {},
   "outputs": [],
   "source": [
    "train = P3B3('/Users/yngtodd/data', partition='train', download=True)"
   ]
  },
  {
   "cell_type": "code",
   "execution_count": 4,
   "metadata": {},
   "outputs": [],
   "source": [
    "trainloader = DataLoader(train, batch_size=1)"
   ]
  },
  {
   "cell_type": "code",
   "execution_count": 6,
   "metadata": {},
   "outputs": [
    {
     "name": "stdout",
     "output_type": "stream",
     "text": [
      "{'subsite': tensor([5]), 'laterality': tensor([0]), 'histology': tensor([2]), 'grade': tensor([2])}\n",
      "{'subsite': tensor([4]), 'laterality': tensor([0]), 'histology': tensor([2]), 'grade': tensor([1])}\n",
      "{'subsite': tensor([5]), 'laterality': tensor([0]), 'histology': tensor([1]), 'grade': tensor([0])}\n"
     ]
    }
   ],
   "source": [
    "for idx, (data, labels) in enumerate(trainloader):\n",
    "    print(labels)\n",
    "    if idx == 2:\n",
    "        break"
   ]
  },
  {
   "cell_type": "code",
   "execution_count": 7,
   "metadata": {},
   "outputs": [],
   "source": [
    "train, valid = train_valid_split(train, valpercent=.25)"
   ]
  },
  {
   "cell_type": "code",
   "execution_count": 12,
   "metadata": {},
   "outputs": [
    {
     "data": {
      "text/plain": [
       "6000"
      ]
     },
     "execution_count": 12,
     "metadata": {},
     "output_type": "execute_result"
    }
   ],
   "source": [
    "len(train)"
   ]
  },
  {
   "cell_type": "code",
   "execution_count": 13,
   "metadata": {},
   "outputs": [
    {
     "data": {
      "text/plain": [
       "2000"
      ]
     },
     "execution_count": 13,
     "metadata": {},
     "output_type": "execute_result"
    }
   ],
   "source": [
    "len(valid)"
   ]
  },
  {
   "cell_type": "code",
   "execution_count": 8,
   "metadata": {},
   "outputs": [],
   "source": [
    "traindata = TrainingData(train, .25, 2, 1)"
   ]
  },
  {
   "cell_type": "code",
   "execution_count": 9,
   "metadata": {},
   "outputs": [],
   "source": [
    "val_loader = traindata.val_loader()"
   ]
  },
  {
   "cell_type": "code",
   "execution_count": 11,
   "metadata": {},
   "outputs": [
    {
     "name": "stdout",
     "output_type": "stream",
     "text": [
      "idx: 0, label: {'subsite': tensor([5]), 'laterality': tensor([0]), 'histology': tensor([1]), 'grade': tensor([2])}\n",
      "idx: 1, label: {'subsite': tensor([4]), 'laterality': tensor([0]), 'histology': tensor([2]), 'grade': tensor([1])}\n",
      "idx: 2, label: {'subsite': tensor([0]), 'laterality': tensor([0]), 'histology': tensor([2]), 'grade': tensor([2])}\n"
     ]
    }
   ],
   "source": [
    "for idx, (data, label) in enumerate(val_loader):\n",
    "    print(f'idx: {idx}, label: {label}')\n",
    "    if idx == 2:\n",
    "        break"
   ]
  },
  {
   "cell_type": "code",
   "execution_count": 14,
   "metadata": {},
   "outputs": [],
   "source": [
    "valid = traindata.val_dataset()"
   ]
  },
  {
   "cell_type": "code",
   "execution_count": 15,
   "metadata": {},
   "outputs": [
    {
     "data": {
      "text/plain": [
       "1500"
      ]
     },
     "execution_count": 15,
     "metadata": {},
     "output_type": "execute_result"
    }
   ],
   "source": [
    "len(valid)"
   ]
  },
  {
   "cell_type": "code",
   "execution_count": 16,
   "metadata": {},
   "outputs": [],
   "source": [
    "train = traindata.train_dataset()"
   ]
  },
  {
   "cell_type": "code",
   "execution_count": 17,
   "metadata": {},
   "outputs": [
    {
     "data": {
      "text/plain": [
       "4500"
      ]
     },
     "execution_count": 17,
     "metadata": {},
     "output_type": "execute_result"
    }
   ],
   "source": [
    "len(train)"
   ]
  },
  {
   "cell_type": "code",
   "execution_count": 18,
   "metadata": {},
   "outputs": [],
   "source": [
    "source = traindata.train_loader()"
   ]
  },
  {
   "cell_type": "code",
   "execution_count": 20,
   "metadata": {},
   "outputs": [
    {
     "name": "stdout",
     "output_type": "stream",
     "text": [
      "idx: 0, label: {'subsite': tensor([0]), 'laterality': tensor([0]), 'histology': tensor([2]), 'grade': tensor([2])}\n",
      "idx: 1, label: {'subsite': tensor([0]), 'laterality': tensor([0]), 'histology': tensor([2]), 'grade': tensor([2])}\n",
      "idx: 2, label: {'subsite': tensor([0]), 'laterality': tensor([0]), 'histology': tensor([2]), 'grade': tensor([2])}\n"
     ]
    }
   ],
   "source": [
    "for idx, (data, labels) in enumerate(source):\n",
    "    print(f'idx: {idx}, label: {label}')\n",
    "    if idx == 2:\n",
    "        break"
   ]
  },
  {
   "cell_type": "code",
   "execution_count": null,
   "metadata": {},
   "outputs": [],
   "source": []
  }
 ],
 "metadata": {
  "kernelspec": {
   "display_name": "Python 3",
   "language": "python",
   "name": "python3"
  },
  "language_info": {
   "codemirror_mode": {
    "name": "ipython",
    "version": 3
   },
   "file_extension": ".py",
   "mimetype": "text/x-python",
   "name": "python",
   "nbconvert_exporter": "python",
   "pygments_lexer": "ipython3",
   "version": "3.7.1"
  }
 },
 "nbformat": 4,
 "nbformat_minor": 2
}
