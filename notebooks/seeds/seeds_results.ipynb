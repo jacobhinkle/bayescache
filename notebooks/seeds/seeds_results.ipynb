{
 "cells": [
  {
   "cell_type": "code",
   "execution_count": 1,
   "metadata": {},
   "outputs": [],
   "source": [
    "import os\n",
    "import numpy as np\n",
    "import pandas as pd\n",
    "\n",
    "import seaborn as sns\n",
    "import matplotlib.pyplot as plt\n",
    "\n",
    "%matplotlib notebook"
   ]
  },
  {
   "cell_type": "code",
   "execution_count": 2,
   "metadata": {},
   "outputs": [],
   "source": [
    "PATH = '/Users/yngtodd/src/ornl/bayescache/output/seeds/mlp/trainloss'"
   ]
  },
  {
   "cell_type": "code",
   "execution_count": 22,
   "metadata": {},
   "outputs": [],
   "source": [
    "def get_results(path):\n",
    "    csvs = os.listdir(path)\n",
    "    paths = [os.path.join(PATH, x) for x in csvs]\n",
    "    res = [pd.read_csv(x) for x in paths]\n",
    "    losses = [np.array(x['loss']) for x in res]\n",
    "    losses = pd.concat([pd.Series(x) for x in losses], axis=1)\n",
    "    return losses"
   ]
  },
  {
   "cell_type": "code",
   "execution_count": 23,
   "metadata": {},
   "outputs": [],
   "source": [
    "def plot_loss_distribution(losses):\n",
    "    \"\"\"Plot aggregate results of series.\n",
    "\n",
    "    Parameters\n",
    "    ----------\n",
    "    losses : pd.DataFrame\n",
    "      Dataframe containing random walks as columns.\n",
    "    \"\"\"\n",
    "    results = loss_stats(losses)\n",
    "    sns.set_context(\"paper\")\n",
    "    sns.tsplot(results)\n",
    "\n",
    "\n",
    "def loss_stats(losses):\n",
    "    \"\"\"Get mean and standard deviation of loss curves across seeds.\n",
    "\n",
    "    Parameters\n",
    "    ----------\n",
    "    losses : pd.DataFrame\n",
    "      Dataframe containing loss curves across seeds as columns.\n",
    "    \"\"\"\n",
    "    mean = np.array(losses.mean(axis=1))\n",
    "    std_dev = np.array(losses.std(axis=1))\n",
    "    upper = mean + std_dev\n",
    "    lower = mean - std_dev\n",
    "    stats = [upper, mean, lower]\n",
    "    return stats"
   ]
  },
  {
   "cell_type": "code",
   "execution_count": 24,
   "metadata": {},
   "outputs": [],
   "source": [
    "losses = get_results(PATH)"
   ]
  },
  {
   "cell_type": "code",
   "execution_count": 31,
   "metadata": {},
   "outputs": [
    {
     "data": {
      "text/plain": [
       "count    30.000000\n",
       "mean      0.377698\n",
       "std       0.012462\n",
       "min       0.354773\n",
       "25%       0.368239\n",
       "50%       0.376439\n",
       "75%       0.386521\n",
       "max       0.402445\n",
       "Name: 59999, dtype: float64"
      ]
     },
     "execution_count": 31,
     "metadata": {},
     "output_type": "execute_result"
    }
   ],
   "source": [
    "df_final = losses.iloc[-1]\n",
    "df_final.describe()"
   ]
  },
  {
   "cell_type": "code",
   "execution_count": 25,
   "metadata": {},
   "outputs": [
    {
     "name": "stderr",
     "output_type": "stream",
     "text": [
      "/Users/yngtodd/src/checkout/anaconda3/lib/python3.7/site-packages/seaborn/timeseries.py:183: UserWarning: The `tsplot` function is deprecated and will be removed in a future release. Please update your code to use the new `lineplot` function.\n",
      "  warnings.warn(msg, UserWarning)\n"
     ]
    },
    {
     "data": {
      "image/png": "[encoded data removed]",
      "text/plain": [
       "<Figure size 432x288 with 1 Axes>"
      ]
     },
     "metadata": {
      "needs_background": "light"
     },
     "output_type": "display_data"
    }
   ],
   "source": [
    "plot_loss_distribution(losses)"
   ]
  }
 ],
 "metadata": {
  "kernelspec": {
   "display_name": "Python 3",
   "language": "python",
   "name": "python3"
  },
  "language_info": {
   "codemirror_mode": {
    "name": "ipython",
    "version": 3
   },
   "file_extension": ".py",
   "mimetype": "text/x-python",
   "name": "python",
   "nbconvert_exporter": "python",
   "pygments_lexer": "ipython3",
   "version": "3.7.1"
  }
 },
 "nbformat": 4,
 "nbformat_minor": 2
}
