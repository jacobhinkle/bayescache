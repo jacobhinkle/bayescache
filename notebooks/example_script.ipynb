{
 "cells": [
  {
   "cell_type": "code",
   "execution_count": 10,
   "metadata": {},
   "outputs": [],
   "source": [
    "import torch.optim as optim\n",
    "import torch.nn.functional as F\n",
    "\n",
    "import bayescache.api as api\n",
    "from bayescache.models import mtcnn\n",
    "from bayescache.data.synthetic import Synthetic\n",
    "from bayescache.api.source import TrainingData\n",
    "from bayescache.callbacks.time_tracker import TimeTracker"
   ]
  },
  {
   "cell_type": "code",
   "execution_count": 2,
   "metadata": {},
   "outputs": [],
   "source": [
    "hparams = mtcnn.Hyperparameters()\n",
    "# Update hyperparameters for the Synthetic data.\n",
    "hparams.vocab_size = 4014\n",
    "hparams.max_sent_len = 1500\n",
    "\n",
    "model = mtcnn.new(hparams)\n",
    "\n",
    "optimizer = optim.RMSprop(model.parameters(), lr=7.0e-4, eps=1e-3)"
   ]
  },
  {
   "cell_type": "code",
   "execution_count": 3,
   "metadata": {},
   "outputs": [],
   "source": [
    "learner = api.Learner(device='cpu', model=model)\n",
    "#learner.summary()"
   ]
  },
  {
   "cell_type": "code",
   "execution_count": 4,
   "metadata": {},
   "outputs": [],
   "source": [
    "train = Synthetic(root='/Users/yngtodd/data', partition='train', download=True)\n",
    "test = Synthetic(root='/Users/yngtodd/data', partition='test', download=True)\n",
    "\n",
    "source = TrainingData(train_source=train, val_source=test, num_workers=2, batch_size=1)"
   ]
  },
  {
   "cell_type": "code",
   "execution_count": 5,
   "metadata": {},
   "outputs": [],
   "source": [
    "metrics = learner.metrics()\n",
    "callbacks = [TimeTracker()]\n",
    "\n",
    "training_info = api.TrainingInfo(\n",
    "    start_epoch_idx=0,\n",
    "    run_name='test',\n",
    "    metrics=metrics,\n",
    "    callbacks=callbacks\n",
    ")"
   ]
  },
  {
   "cell_type": "code",
   "execution_count": 6,
   "metadata": {},
   "outputs": [],
   "source": [
    "training_info.on_train_begin()"
   ]
  },
  {
   "cell_type": "code",
   "execution_count": null,
   "metadata": {},
   "outputs": [],
   "source": [
    "for global_epoch_idx in range(training_info.start_epoch_idx + 1, 1 + 1):\n",
    "    epoch_info = api.EpochInfo(\n",
    "        training_info=training_info,\n",
    "        global_epoch_idx=global_epoch_idx,\n",
    "        batches_per_epoch=source.train_iterations_per_epoch(),\n",
    "        optimizer=optimizer\n",
    "    )\n",
    "\n",
    "    # Execute learning\n",
    "    learner.run_epoch(epoch_info, source)"
   ]
  },
  {
   "cell_type": "markdown",
   "metadata": {},
   "source": [
    "### Diagnosing Loss"
   ]
  },
  {
   "cell_type": "code",
   "execution_count": 28,
   "metadata": {},
   "outputs": [],
   "source": [
    "import torch\n",
    "from torch.utils.data import DataLoader"
   ]
  },
  {
   "cell_type": "code",
   "execution_count": 8,
   "metadata": {},
   "outputs": [],
   "source": [
    "trainloader = DataLoader(train)"
   ]
  },
  {
   "cell_type": "code",
   "execution_count": 118,
   "metadata": {},
   "outputs": [
    {
     "name": "stdout",
     "output_type": "stream",
     "text": [
      "1\n",
      "torch.Size([1, 4])\n"
     ]
    }
   ],
   "source": [
    "for idx, (data, label) in enumerate(trainloader):\n",
    "    logits = model(data)\n",
    "    #print(len(logits))\n",
    "    #print(logits)\n",
    "    print(len(label))\n",
    "    print(label.shape)\n",
    "    #F.cross_entropy(logits[0], label[0])\n",
    "    if idx == 0:\n",
    "        break "
   ]
  },
  {
   "cell_type": "code",
   "execution_count": 119,
   "metadata": {},
   "outputs": [
    {
     "data": {
      "text/plain": [
       "[tensor([[ 1.6869, -1.9427,  1.3464, -1.7673,  1.4861,  1.2414]],\n",
       "        grad_fn=<AddmmBackward>),\n",
       " tensor([[-0.3516,  1.7404]], grad_fn=<AddmmBackward>),\n",
       " tensor([[-1.3831, -0.1916]], grad_fn=<AddmmBackward>),\n",
       " tensor([[-1.2198,  0.4501,  1.7425]], grad_fn=<AddmmBackward>)]"
      ]
     },
     "execution_count": 119,
     "metadata": {},
     "output_type": "execute_result"
    }
   ],
   "source": [
    "logits"
   ]
  },
  {
   "cell_type": "code",
   "execution_count": 120,
   "metadata": {},
   "outputs": [
    {
     "data": {
      "text/plain": [
       "tensor([[14,  1,  2,  2]])"
      ]
     },
     "execution_count": 120,
     "metadata": {},
     "output_type": "execute_result"
    }
   ],
   "source": [
    "label"
   ]
  },
  {
   "cell_type": "code",
   "execution_count": 132,
   "metadata": {},
   "outputs": [
    {
     "name": "stderr",
     "output_type": "stream",
     "text": [
      "/Users/yngtodd/src/checkout/anaconda3/lib/python3.7/site-packages/ipykernel_launcher.py:1: UserWarning: Implicit dimension choice for softmax has been deprecated. Change the call to include dim=X as an argument.\n",
      "  \"\"\"Entry point for launching an IPython kernel.\n"
     ]
    },
    {
     "data": {
      "text/plain": [
       "tensor(1.7667, grad_fn=<NllLossBackward>)"
      ]
     },
     "execution_count": 132,
     "metadata": {},
     "output_type": "execute_result"
    }
   ],
   "source": [
    "F.cross_entropy(F.softmax(logits[0]), torch.tensor((5,)))"
   ]
  },
  {
   "cell_type": "code",
   "execution_count": 117,
   "metadata": {},
   "outputs": [
    {
     "data": {
      "text/plain": [
       "[tensor([[ 1.6869, -1.9427,  1.3464, -1.7673,  1.4861,  1.2414]],\n",
       "        grad_fn=<AddmmBackward>),\n",
       " tensor([[-0.3516,  1.7404]], grad_fn=<AddmmBackward>),\n",
       " tensor([[-1.3831, -0.1916]], grad_fn=<AddmmBackward>),\n",
       " tensor([[-1.2198,  0.4501,  1.7425]], grad_fn=<AddmmBackward>)]"
      ]
     },
     "execution_count": 117,
     "metadata": {},
     "output_type": "execute_result"
    }
   ],
   "source": [
    "logits"
   ]
  },
  {
   "cell_type": "code",
   "execution_count": 115,
   "metadata": {},
   "outputs": [
    {
     "data": {
      "text/plain": [
       "tensor([14])"
      ]
     },
     "execution_count": 115,
     "metadata": {},
     "output_type": "execute_result"
    }
   ],
   "source": [
    "logits[0].shape\n",
    "x = label[0][0].item()\n",
    "target = torch.tensor((x,))\n",
    "target"
   ]
  },
  {
   "cell_type": "code",
   "execution_count": 106,
   "metadata": {},
   "outputs": [],
   "source": [
    "input = torch.randn(1, 6, requires_grad=True)\n",
    "target = torch.randint(6, (1,), dtype=torch.int64)"
   ]
  },
  {
   "cell_type": "code",
   "execution_count": 107,
   "metadata": {},
   "outputs": [
    {
     "data": {
      "text/plain": [
       "tensor([3])"
      ]
     },
     "execution_count": 107,
     "metadata": {},
     "output_type": "execute_result"
    }
   ],
   "source": [
    "input.shape\n",
    "target"
   ]
  },
  {
   "cell_type": "markdown",
   "metadata": {},
   "source": [
    "### Shape of Things to Come:"
   ]
  },
  {
   "cell_type": "code",
   "execution_count": 121,
   "metadata": {},
   "outputs": [],
   "source": [
    "data, labels = train.load_data()"
   ]
  },
  {
   "cell_type": "code",
   "execution_count": 122,
   "metadata": {},
   "outputs": [
    {
     "data": {
      "text/plain": [
       "8000"
      ]
     },
     "execution_count": 122,
     "metadata": {},
     "output_type": "execute_result"
    }
   ],
   "source": [
    "len(labels)"
   ]
  },
  {
   "cell_type": "code",
   "execution_count": 123,
   "metadata": {},
   "outputs": [
    {
     "data": {
      "text/plain": [
       "8000"
      ]
     },
     "execution_count": 123,
     "metadata": {},
     "output_type": "execute_result"
    }
   ],
   "source": [
    "len(labels[:,0])"
   ]
  },
  {
   "cell_type": "code",
   "execution_count": 129,
   "metadata": {},
   "outputs": [],
   "source": [
    "import numpy as np\n",
    "unq, counts = np.unique(labels[:,0], return_counts=True)"
   ]
  },
  {
   "cell_type": "code",
   "execution_count": 131,
   "metadata": {},
   "outputs": [
    {
     "data": {
      "text/plain": [
       "array([ 1,  3,  5, 10, 13, 14])"
      ]
     },
     "execution_count": 131,
     "metadata": {},
     "output_type": "execute_result"
    }
   ],
   "source": [
    "unq"
   ]
  },
  {
   "cell_type": "code",
   "execution_count": 126,
   "metadata": {},
   "outputs": [
    {
     "data": {
      "text/plain": [
       "array([1, 2, 1])"
      ]
     },
     "execution_count": 126,
     "metadata": {},
     "output_type": "execute_result"
    }
   ],
   "source": [
    "counts"
   ]
  },
  {
   "cell_type": "code",
   "execution_count": null,
   "metadata": {},
   "outputs": [],
   "source": [
    "data[0].shape"
   ]
  },
  {
   "cell_type": "code",
   "execution_count": null,
   "metadata": {},
   "outputs": [],
   "source": [
    "sum(counts)"
   ]
  },
  {
   "cell_type": "code",
   "execution_count": 88,
   "metadata": {},
   "outputs": [
    {
     "data": {
      "text/plain": [
       "torch.Size([1, 1500])"
      ]
     },
     "execution_count": 88,
     "metadata": {},
     "output_type": "execute_result"
    }
   ],
   "source": [
    "data.shape"
   ]
  },
  {
   "cell_type": "code",
   "execution_count": 96,
   "metadata": {},
   "outputs": [
    {
     "data": {
      "text/plain": [
       "array([[14,  1,  2,  2],\n",
       "       [13,  1,  2,  1],\n",
       "       [14,  1,  1,  0],\n",
       "       ...,\n",
       "       [14,  1,  2,  1],\n",
       "       [14,  2,  2,  1],\n",
       "       [14,  1,  2,  1]])"
      ]
     },
     "execution_count": 96,
     "metadata": {},
     "output_type": "execute_result"
    }
   ],
   "source": [
    "labels"
   ]
  },
  {
   "cell_type": "code",
   "execution_count": 95,
   "metadata": {},
   "outputs": [
    {
     "data": {
      "text/plain": [
       "array([[  35,  197,  232, ...,    0,    0,    0],\n",
       "       [ 631, 1870,  427, ...,    0,    0,    0],\n",
       "       [  79,  291,   96, ...,    0,    0,    0],\n",
       "       ...,\n",
       "       [3182,  196,  719, ...,    0,    0,    0],\n",
       "       [  93,  119,  109, ...,    0,    0,    0],\n",
       "       [  90,  414,   41, ...,    0,    0,    0]])"
      ]
     },
     "execution_count": 95,
     "metadata": {},
     "output_type": "execute_result"
    }
   ],
   "source": [
    "data"
   ]
  },
  {
   "cell_type": "code",
   "execution_count": null,
   "metadata": {},
   "outputs": [],
   "source": []
  }
 ],
 "metadata": {
  "kernelspec": {
   "display_name": "Python 3",
   "language": "python",
   "name": "python3"
  },
  "language_info": {
   "codemirror_mode": {
    "name": "ipython",
    "version": 3
   },
   "file_extension": ".py",
   "mimetype": "text/x-python",
   "name": "python",
   "nbconvert_exporter": "python",
   "pygments_lexer": "ipython3",
   "version": "3.7.1"
  }
 },
 "nbformat": 4,
 "nbformat_minor": 2
}
