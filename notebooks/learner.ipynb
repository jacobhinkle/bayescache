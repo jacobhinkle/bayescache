{
 "cells": [
  {
   "cell_type": "code",
   "execution_count": 1,
   "metadata": {},
   "outputs": [],
   "source": [
    "from bayescache.models import mtcnn\n",
    "from bayescache.api.learner import Learner"
   ]
  },
  {
   "cell_type": "code",
   "execution_count": 2,
   "metadata": {},
   "outputs": [],
   "source": [
    "model_state = '/Users/yngtodd/src/ornl/bayescache/notebooks/model'"
   ]
  },
  {
   "cell_type": "code",
   "execution_count": 17,
   "metadata": {},
   "outputs": [],
   "source": [
    "# Let's try setting up the model with slightly modified hyperparameters.\n",
    "hparams = mtcnn.Hyperparameters()\n",
    "hparams.kernel1 = 10\n",
    "\n",
    "model = mtcnn.new(hparams)"
   ]
  },
  {
   "cell_type": "code",
   "execution_count": 18,
   "metadata": {},
   "outputs": [],
   "source": [
    "learner = Learner('cpu', model)"
   ]
  },
  {
   "cell_type": "code",
   "execution_count": 19,
   "metadata": {},
   "outputs": [
    {
     "data": {
      "text/plain": [
       "315810"
      ]
     },
     "execution_count": 19,
     "metadata": {},
     "output_type": "execute_result"
    }
   ],
   "source": [
    "learner.number_of_parameters()"
   ]
  },
  {
   "cell_type": "code",
   "execution_count": 20,
   "metadata": {},
   "outputs": [
    {
     "name": "stdout",
     "output_type": "stream",
     "text": [
      "MTCNN(\n",
      "  (embedding): Embedding(\n",
      "    (emb): Sequential(\n",
      "      (embedding_3000_100): Embedding(3002, 100, padding_idx=0)\n",
      "    )\n",
      "  )\n",
      "  (conv1): Conv1d(\n",
      "    (conv): Sequential(\n",
      "      (conv1d_10_300): Conv1d(1, 300, kernel_size=(10,), stride=(1,))\n",
      "    )\n",
      "  )\n",
      "  (conv2): Conv1d(\n",
      "    (conv): Sequential(\n",
      "      (conv1d_4_300): Conv1d(1, 300, kernel_size=(4,), stride=(1,))\n",
      "    )\n",
      "  )\n",
      "  (conv3): Conv1d(\n",
      "    (conv): Sequential(\n",
      "      (conv1d_5_300): Conv1d(1, 300, kernel_size=(5,), stride=(1,))\n",
      "    )\n",
      "  )\n",
      "  (fc): Linear(in_features=900, out_features=10, bias=True)\n",
      ")\n",
      "--------------------------------------------------------------------------------\n",
      "Number of model parameters: 315,810\n",
      "--------------------------------------------------------------------------------\n"
     ]
    }
   ],
   "source": [
    "learner.summary()"
   ]
  },
  {
   "cell_type": "code",
   "execution_count": 14,
   "metadata": {},
   "outputs": [
    {
     "data": {
      "text/plain": [
       "[<bayescache.metrics.loss_metric.Loss at 0x11833fcc0>]"
      ]
     },
     "execution_count": 14,
     "metadata": {},
     "output_type": "execute_result"
    }
   ],
   "source": [
    "learner.metrics()"
   ]
  },
  {
   "cell_type": "code",
   "execution_count": 15,
   "metadata": {},
   "outputs": [],
   "source": [
    "learner.initialize_training(model_state)"
   ]
  },
  {
   "cell_type": "code",
   "execution_count": 16,
   "metadata": {},
   "outputs": [
    {
     "data": {
      "text/plain": [
       "MTCNN(\n",
       "  (embedding): Embedding(\n",
       "    (emb): Sequential(\n",
       "      (embedding_3000_100): Embedding(3002, 100, padding_idx=0)\n",
       "    )\n",
       "  )\n",
       "  (conv1): Conv1d(\n",
       "    (conv): Sequential(\n",
       "      (conv1d_10_300): Conv1d(1, 300, kernel_size=(10,), stride=(1,))\n",
       "    )\n",
       "  )\n",
       "  (conv2): Conv1d(\n",
       "    (conv): Sequential(\n",
       "      (conv1d_4_300): Conv1d(1, 300, kernel_size=(4,), stride=(1,))\n",
       "    )\n",
       "  )\n",
       "  (conv3): Conv1d(\n",
       "    (conv): Sequential(\n",
       "      (conv1d_5_300): Conv1d(1, 300, kernel_size=(5,), stride=(1,))\n",
       "    )\n",
       "  )\n",
       "  (fc): Linear(in_features=900, out_features=10, bias=True)\n",
       ")"
      ]
     },
     "execution_count": 16,
     "metadata": {},
     "output_type": "execute_result"
    }
   ],
   "source": [
    "learner.model"
   ]
  },
  {
   "cell_type": "code",
   "execution_count": null,
   "metadata": {},
   "outputs": [],
   "source": []
  }
 ],
 "metadata": {
  "kernelspec": {
   "display_name": "Python 3",
   "language": "python",
   "name": "python3"
  },
  "language_info": {
   "codemirror_mode": {
    "name": "ipython",
    "version": 3
   },
   "file_extension": ".py",
   "mimetype": "text/x-python",
   "name": "python",
   "nbconvert_exporter": "python",
   "pygments_lexer": "ipython3",
   "version": "3.7.1"
  }
 },
 "nbformat": 4,
 "nbformat_minor": 2
}
