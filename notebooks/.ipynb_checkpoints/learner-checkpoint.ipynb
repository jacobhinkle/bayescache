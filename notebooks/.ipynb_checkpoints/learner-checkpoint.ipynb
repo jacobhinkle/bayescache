{
 "cells": [
  {
   "cell_type": "code",
   "execution_count": 1,
   "metadata": {},
   "outputs": [],
   "source": [
    "from bayescache.models import mtcnn\n",
    "from bayescache.api.learner import Learner"
   ]
  },
  {
   "cell_type": "code",
   "execution_count": 2,
   "metadata": {},
   "outputs": [],
   "source": [
    "model = mtcnn.new()"
   ]
  },
  {
   "cell_type": "code",
   "execution_count": 3,
   "metadata": {},
   "outputs": [],
   "source": [
    "learner = Learner('cpu', model)"
   ]
  },
  {
   "cell_type": "code",
   "execution_count": 4,
   "metadata": {},
   "outputs": [
    {
     "data": {
      "text/plain": [
       "313710"
      ]
     },
     "execution_count": 4,
     "metadata": {},
     "output_type": "execute_result"
    }
   ],
   "source": [
    "learner.number_of_parameters()"
   ]
  },
  {
   "cell_type": "code",
   "execution_count": 5,
   "metadata": {},
   "outputs": [
    {
     "name": "stdout",
     "output_type": "stream",
     "text": [
      "MTCNN(\n",
      "  (embedding): Embedding(\n",
      "    (emb): Sequential(\n",
      "      (embedding_3000_100): Embedding(3002, 100, padding_idx=0)\n",
      "    )\n",
      "  )\n",
      "  (conv1): Conv1d(\n",
      "    (conv): Sequential(\n",
      "      (conv1d_3_300): Conv1d(1, 300, kernel_size=(3,), stride=(1,))\n",
      "    )\n",
      "  )\n",
      "  (conv2): Conv1d(\n",
      "    (conv): Sequential(\n",
      "      (conv1d_4_300): Conv1d(1, 300, kernel_size=(4,), stride=(1,))\n",
      "    )\n",
      "  )\n",
      "  (conv3): Conv1d(\n",
      "    (conv): Sequential(\n",
      "      (conv1d_5_300): Conv1d(1, 300, kernel_size=(5,), stride=(1,))\n",
      "    )\n",
      "  )\n",
      "  (fc): Linear(in_features=900, out_features=10, bias=True)\n",
      ")\n",
      "------------------------------------------------------------------------------------------------------------------------\n",
      "Number of model parameters: 313,710\n",
      "------------------------------------------------------------------------------------------------------------------------\n"
     ]
    }
   ],
   "source": [
    "learner.summary()"
   ]
  },
  {
   "cell_type": "code",
   "execution_count": null,
   "metadata": {},
   "outputs": [],
   "source": []
  }
 ],
 "metadata": {
  "kernelspec": {
   "display_name": "Python 3",
   "language": "python",
   "name": "python3"
  },
  "language_info": {
   "codemirror_mode": {
    "name": "ipython",
    "version": 3
   },
   "file_extension": ".py",
   "mimetype": "text/x-python",
   "name": "python",
   "nbconvert_exporter": "python",
   "pygments_lexer": "ipython3",
   "version": "3.7.1"
  }
 },
 "nbformat": 4,
 "nbformat_minor": 2
}
